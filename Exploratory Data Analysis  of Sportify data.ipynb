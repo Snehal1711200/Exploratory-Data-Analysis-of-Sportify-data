{
 "cells": [
  {
   "cell_type": "code",
   "execution_count": 1,
   "id": "6b7851a6-ec13-434e-abde-e62d2d41c467",
   "metadata": {},
   "outputs": [],
   "source": [
    "import pandas as pd\n",
    "import seaborn as sns\n",
    "import matplotlib as plt\n",
    "import numpy as np"
   ]
  },
  {
   "cell_type": "markdown",
   "id": "2b76c91e-3666-4438-8ec9-356c6c9ccec9",
   "metadata": {},
   "source": [
    "1.Load the dataframe and ensure data quality by checking for missing values and duplicate rows. Handle missing values and remove duplicate rows if necessary.\n",
    "\n",
    "2.What is the distribution of popularity among the tracks in the dataset? Visualize it using a histogram.\n",
    "\n",
    "3.Is there any relationship between the popularity and the duration of tracks? Explore this using a scatter plot.\n",
    "\n",
    "4.Which artist has the highest number of tracks in the dataset? Display the count of tracks for each artist using a countplot.\n",
    "\n",
    "5.What are the top 5 least popular tracks in the dataset? Provide the artist name and track name for each.\n",
    "\n",
    "6.Among the top 5 most popular artists, which artist has the highest popularity on average? Calculate and display the average popularity for each artist.\n",
    "\n",
    "7.For the top 5 most popular artists, what are their most popular tracks? List the track name for each artist.\n",
    "\n",
    "8.Visualize relationships between multiple numerical variables simultaneously using a pair plot.\n",
    "\n",
    "9.Does the duration of tracks vary significantly across different artists? Explore this visually using a box plot or violin plot.\n",
    "\n",
    "10.How does the distribution of track popularity vary for different artists? Visualize this using a swarm plot or a violin plot.\n",
    "\n"
   ]
  },
  {
   "cell_type": "code",
   "execution_count": 2,
   "id": "00b47c36-ed57-4c41-8824-a65d9acd24ac",
   "metadata": {},
   "outputs": [
    {
     "ename": "_IncompleteInputError",
     "evalue": "incomplete input (649609888.py, line 1)",
     "output_type": "error",
     "traceback": [
      "\u001b[1;36m  Cell \u001b[1;32mIn[2], line 1\u001b[1;36m\u001b[0m\n\u001b[1;33m    df=pd.read_csv(\u001b[0m\n\u001b[1;37m                   ^\u001b[0m\n\u001b[1;31m_IncompleteInputError\u001b[0m\u001b[1;31m:\u001b[0m incomplete input\n"
     ]
    }
   ],
   "source": [
    "df=pd.read_csv("
   ]
  },
  {
   "cell_type": "code",
   "execution_count": 3,
   "id": "aed84f7c-7171-4f90-ab9f-0787bb1c9957",
   "metadata": {},
   "outputs": [
    {
     "ename": "NameError",
     "evalue": "name 'df' is not defined",
     "output_type": "error",
     "traceback": [
      "\u001b[1;31m---------------------------------------------------------------------------\u001b[0m",
      "\u001b[1;31mNameError\u001b[0m                                 Traceback (most recent call last)",
      "Cell \u001b[1;32mIn[3], line 1\u001b[0m\n\u001b[1;32m----> 1\u001b[0m \u001b[43mdf\u001b[49m\u001b[38;5;241m.\u001b[39minfo()\n",
      "\u001b[1;31mNameError\u001b[0m: name 'df' is not defined"
     ]
    }
   ],
   "source": [
    "df.info()"
   ]
  },
  {
   "cell_type": "code",
   "execution_count": null,
   "id": "f387bce0-27d3-4083-b2a9-277d33679bf4",
   "metadata": {},
   "outputs": [],
   "source": [
    "print(df2.isnull().sum())"
   ]
  },
  {
   "cell_type": "code",
   "execution_count": null,
   "id": "b80964df-7df3-4f04-9f32-cc6d1ea18104",
   "metadata": {},
   "outputs": [],
   "source": [
    "df2['Duration (ms)'].fillna(df2['Duration (ms)'].median(), inplace=True)"
   ]
  },
  {
   "cell_type": "code",
   "execution_count": null,
   "id": "2806418c-c115-40d1-aa64-04ae1f6be27e",
   "metadata": {},
   "outputs": [],
   "source": [
    "duplicates = df.duplicated().sum()  # This will return the number of duplicate rows\n",
    "print(f\"Number of duplicate rows: {duplicates}\")"
   ]
  },
  {
   "cell_type": "code",
   "execution_count": null,
   "id": "550ac463-89e4-4ee8-b80e-3bbaeeb07336",
   "metadata": {},
   "outputs": [],
   "source": [
    "if duplicates > 0:\n",
    "    df2.drop_duplicates(inplace=True)\n",
    "    print(\"Duplicates removed.\")\n"
   ]
  },
  {
   "cell_type": "code",
   "execution_count": null,
   "id": "cbacc6ee-a360-49b7-bb9b-f0552f4b83fe",
   "metadata": {},
   "outputs": [],
   "source": [
    "import matplotlib.pyplot as plt\n",
    "import seaborn as sns\n",
    "\n",
    "# Assuming the dataframe 'df' is already loaded and cleaned\n",
    "# 1. Extract the 'Popularity' column (replace 'Popularity' with the actual column name if different)\n",
    "popularity = df2['Popularity']\n",
    "\n",
    "# 2. Plot the distribution of popularity using a histogram\n",
    "plt.figure(figsize=(10, 6))\n",
    "sns.histplot(popularity, kde=True, bins=30, color='blue')  # kde=True adds the kernel density estimate curve\n",
    "plt.title('Distribution of Popularity Among Hip-Hop Tracks')\n",
    "plt.xlabel('Popularity')\n",
    "plt.ylabel('Frequency')\n",
    "plt.grid(True)\n",
    "plt.show()\n"
   ]
  },
  {
   "cell_type": "markdown",
   "id": "9d5ceee0-3020-48ce-970c-815c6acc1d19",
   "metadata": {},
   "source": []
  },
  {
   "cell_type": "code",
   "execution_count": null,
   "id": "51c4a52b-830e-41c3-bd3c-7f90618956bf",
   "metadata": {},
   "outputs": [],
   "source": [
    "import matplotlib.pyplot as plt\n",
    "import seaborn as sns\n",
    "\n",
    "# Assuming the dataframe 'df' is already loaded and cleaned\n",
    "# 1. Extract the 'Popularity' and 'Duration (ms)' columns\n",
    "popularity = df2['Popularity']\n",
    "duration = df2['Duration (ms)']\n",
    "\n",
    "# 2. Plot the scatter plot\n",
    "plt.figure(figsize=(10, 6))\n",
    "sns.scatterplot(x=duration, y=popularity, color='purple')\n",
    "\n",
    "# Add titles and labels\n",
    "plt.title('Relationship Between Popularity and Duration of Tracks')\n",
    "plt.xlabel('Track Duration (ms)')\n",
    "plt.ylabel('Popularity')\n",
    "plt.grid(True)\n",
    "plt.show()\n"
   ]
  },
  {
   "cell_type": "markdown",
   "id": "45e3f861-7dc1-4256-8ad2-8e7c426e6f1e",
   "metadata": {},
   "source": [
    "insights: \n",
    "\n",
    "track having duration of 150000 to 250000 have high popularity"
   ]
  },
  {
   "cell_type": "code",
   "execution_count": null,
   "id": "981dad40-e3b9-42fe-8a6c-c395982f2ed5",
   "metadata": {},
   "outputs": [],
   "source": [
    "import matplotlib.pyplot as plt\n",
    "import seaborn as sns\n",
    "\n",
    "# Assuming the dataframe 'df' is already loaded and cleaned\n",
    "# 1. Count the number of tracks for each artist\n",
    "plt.figure(figsize=(12, 6))\n",
    "sns.countplot(data=df2, x='Artist', palette='viridis')\n",
    "\n",
    "# Add titles and labels\n",
    "plt.title('Number of Tracks per Artist')\n",
    "plt.xlabel('Artist')\n",
    "plt.ylabel('Number of Tracks')\n",
    "plt.xticks(rotation=90)  # Rotate the artist names for better readability\n",
    "plt.grid(True)\n",
    "plt.show()"
   ]
  },
  {
   "cell_type": "markdown",
   "id": "e3b080ac-2bb5-4613-98c0-7d2041b66e59",
   "metadata": {},
   "source": [
    "insights:\n",
    "\n",
    "drack having highest number of tracks i.e 20"
   ]
  },
  {
   "cell_type": "code",
   "execution_count": null,
   "id": "357d8a7a-8c0f-4984-b765-42b052fdbf53",
   "metadata": {},
   "outputs": [],
   "source": [
    "# Sorting the dataset by popularity in ascending order and selecting the top 5 least popular tracks\n",
    "least_popular_tracks = df2.sort_values(by='Popularity').head(5)\n",
    "\n",
    "# Display the track name and artist name for the top 5 least popular tracks\n",
    "least_popular_tracks = least_popular_tracks[['Artist', 'Track Name', 'Popularity']]\n",
    "print(least_popular_tracks)\n"
   ]
  },
  {
   "cell_type": "markdown",
   "id": "fa20d03c-11de-4ad8-bdad-b867185df90f",
   "metadata": {},
   "source": [
    "insights:\n",
    "\n",
    "pressa's track is least popular name feat. Coi Leray having popularity 29"
   ]
  },
  {
   "cell_type": "code",
   "execution_count": null,
   "id": "662b8e3d-3c15-43c1-86ac-cfd7036404c8",
   "metadata": {},
   "outputs": [],
   "source": [
    "# Sorting the dataset by popularity in descending order and selecting the top 5 most popular artists\n",
    "top_5_artists = df2.groupby('Artist')['Popularity'].mean().sort_values(ascending=False).head(5)\n",
    "\n",
    "# Display the artist name and average popularity for the top 5 artists\n",
    "print(top_5_artists)"
   ]
  },
  {
   "cell_type": "markdown",
   "id": "961db3b6-76b5-4ded-a508-90f5907d0c2f",
   "metadata": {},
   "source": [
    "insights:\n",
    "\n",
    "casso is most popular artist having popularity 92"
   ]
  },
  {
   "cell_type": "code",
   "execution_count": null,
   "id": "83eefb6e-19a0-4b7e-847c-1fe39faf33c7",
   "metadata": {},
   "outputs": [],
   "source": [
    "# Identify the top 5 artists by average popularity\n",
    "top_5_artists = df2.groupby('Artist')['Popularity'].mean().sort_values(ascending=False).head(5)\n",
    "\n",
    "# Find the most popular track for each of the top 5 artists\n",
    "most_popular_tracks = df2[df2['Artist'].isin(top_5_artists.index)]  # Filter rows for top 5 artists\n",
    "most_popular_tracks = most_popular_tracks.loc[most_popular_tracks.groupby('Artist')['Popularity'].idxmax()]\n",
    "\n",
    "# Display the artist name and their most popular track\n",
    "for index, row in most_popular_tracks.iterrows():\n",
    "    print(f\"Artist: {row['Artist']}, Most Popular Track: {row['Track Name']}, Popularity: {row['Popularity']}\")\n"
   ]
  },
  {
   "cell_type": "markdown",
   "id": "3eea80e4-5d7a-41ba-8d68-67c27848f3d4",
   "metadata": {},
   "source": [
    "insights:\n",
    "\n",
    "artist ¥$ having Most Popular Track CARNIVAL, Popularity is 96"
   ]
  },
  {
   "cell_type": "code",
   "execution_count": null,
   "id": "4b970d25-766c-4746-bbf1-883c3d49a2e2",
   "metadata": {},
   "outputs": [],
   "source": [
    "import seaborn as sns\n",
    "import matplotlib.pyplot as plt\n",
    "\n",
    "# Select numerical columns to visualize\n",
    "numerical_columns = ['Popularity', 'Duration (ms)']\n",
    "\n",
    "# Create a pair plot\n",
    "sns.pairplot(df2[numerical_columns])\n",
    "\n",
    "# Show the plot\n",
    "plt.show()"
   ]
  },
  {
   "cell_type": "markdown",
   "id": "8246bc9e-4fd0-4c7e-96f3-1682f02543c6",
   "metadata": {},
   "source": []
  },
  {
   "cell_type": "code",
   "execution_count": 6,
   "id": "8279b61a-953a-4fdd-a075-9663a56df536",
   "metadata": {},
   "outputs": [
    {
     "ename": "ModuleNotFoundError",
     "evalue": "No module named 'plotly'",
     "output_type": "error",
     "traceback": [
      "\u001b[1;31m---------------------------------------------------------------------------\u001b[0m",
      "\u001b[1;31mModuleNotFoundError\u001b[0m                       Traceback (most recent call last)",
      "Cell \u001b[1;32mIn[6], line 1\u001b[0m\n\u001b[1;32m----> 1\u001b[0m \u001b[38;5;28;01mimport\u001b[39;00m \u001b[38;5;21;01mplotly\u001b[39;00m\u001b[38;5;21;01m.\u001b[39;00m\u001b[38;5;21;01mexpress\u001b[39;00m \u001b[38;5;28;01mas\u001b[39;00m \u001b[38;5;21;01mpx\u001b[39;00m\n\u001b[0;32m      3\u001b[0m \u001b[38;5;66;03m# Create the boxplot\u001b[39;00m\n\u001b[0;32m      4\u001b[0m fig \u001b[38;5;241m=\u001b[39m px\u001b[38;5;241m.\u001b[39mbox(\n\u001b[0;32m      5\u001b[0m     df2,\n\u001b[0;32m      6\u001b[0m     x\u001b[38;5;241m=\u001b[39m\u001b[38;5;124m'\u001b[39m\u001b[38;5;124mArtist\u001b[39m\u001b[38;5;124m'\u001b[39m,\n\u001b[1;32m   (...)\u001b[0m\n\u001b[0;32m     10\u001b[0m     template\u001b[38;5;241m=\u001b[39m\u001b[38;5;124m'\u001b[39m\u001b[38;5;124mplotly\u001b[39m\u001b[38;5;124m'\u001b[39m\n\u001b[0;32m     11\u001b[0m )\n",
      "\u001b[1;31mModuleNotFoundError\u001b[0m: No module named 'plotly'"
     ]
    }
   ],
   "source": [
    "import plotly.express as px\n",
    "\n",
    "# Create the boxplot\n",
    "fig = px.box(\n",
    "    df2,\n",
    "    x='Artist',\n",
    "    y='Duration (ms)',\n",
    "    title=\"Duration of Tracks Across Different Artists\",\n",
    "    labels={'Duration (ms)': 'Duration (ms)', 'Artist': 'Artist'},\n",
    "    template='plotly'\n",
    ")\n",
    "\n",
    "# Update layout for better visibility of artist names\n",
    "fig.update_layout(xaxis_tickangle=90, height=600, width=1000)\n",
    "\n",
    "# Show the plot\n",
    "fig.show()\n",
    "\n"
   ]
  },
  {
   "cell_type": "markdown",
   "id": "7dc98661-cadb-4699-bc7b-f7dc5f75044e",
   "metadata": {},
   "source": [
    "insights:\n",
    "\n",
    "dj khaled having longest duration of track"
   ]
  },
  {
   "cell_type": "code",
   "execution_count": 5,
   "id": "c60d8fe6-b4e4-47e2-b47c-3fe57585e18b",
   "metadata": {},
   "outputs": [
    {
     "ename": "ModuleNotFoundError",
     "evalue": "No module named 'plotly'",
     "output_type": "error",
     "traceback": [
      "\u001b[1;31m---------------------------------------------------------------------------\u001b[0m",
      "\u001b[1;31mModuleNotFoundError\u001b[0m                       Traceback (most recent call last)",
      "Cell \u001b[1;32mIn[5], line 1\u001b[0m\n\u001b[1;32m----> 1\u001b[0m \u001b[38;5;28;01mimport\u001b[39;00m \u001b[38;5;21;01mplotly\u001b[39;00m\u001b[38;5;21;01m.\u001b[39;00m\u001b[38;5;21;01mexpress\u001b[39;00m \u001b[38;5;28;01mas\u001b[39;00m \u001b[38;5;21;01mpx\u001b[39;00m\n\u001b[0;32m      3\u001b[0m \u001b[38;5;66;03m# Create the swarm-like plot using strip plot functionality in Plotly\u001b[39;00m\n\u001b[0;32m      4\u001b[0m fig \u001b[38;5;241m=\u001b[39m px\u001b[38;5;241m.\u001b[39mstrip(\n\u001b[0;32m      5\u001b[0m     df2,\n\u001b[0;32m      6\u001b[0m     x\u001b[38;5;241m=\u001b[39m\u001b[38;5;124m'\u001b[39m\u001b[38;5;124mArtist\u001b[39m\u001b[38;5;124m'\u001b[39m,\n\u001b[1;32m   (...)\u001b[0m\n\u001b[0;32m     11\u001b[0m     height\u001b[38;5;241m=\u001b[39m\u001b[38;5;241m600\u001b[39m\n\u001b[0;32m     12\u001b[0m )\n",
      "\u001b[1;31mModuleNotFoundError\u001b[0m: No module named 'plotly'"
     ]
    }
   ],
   "source": [
    "import plotly.express as px\n",
    "\n",
    "# Create the swarm-like plot using strip plot functionality in Plotly\n",
    "fig = px.strip(\n",
    "    df2,\n",
    "    x='Artist',\n",
    "    y='Popularity',\n",
    "    title=\"Track Popularity Distribution Across Different Artists\",\n",
    "    labels={'Artist': 'Artist', 'Popularity': 'Popularity'},\n",
    "    width=1000,\n",
    "    height=600\n",
    ")\n",
    "\n",
    "# Update layout for better visibility\n",
    "fig.update_layout(\n",
    "    xaxis={'tickangle': 90},  # Rotate artist names for better readability\n",
    "    showlegend=False\n",
    ")\n",
    "\n",
    "# Show the plot\n",
    "fig.show()\n"
   ]
  },
  {
   "cell_type": "markdown",
   "id": "646b4a81-c2e8-429f-91a6-aadd4d8f61d2",
   "metadata": {},
   "source": [
    "insights:\n",
    "\n",
    "Artist jack harlow having highest popularity i.e 97"
   ]
  }
 ],
 "metadata": {
  "kernelspec": {
   "display_name": "Python 3 (ipykernel)",
   "language": "python",
   "name": "python3"
  },
  "language_info": {
   "codemirror_mode": {
    "name": "ipython",
    "version": 3
   },
   "file_extension": ".py",
   "mimetype": "text/x-python",
   "name": "python",
   "nbconvert_exporter": "python",
   "pygments_lexer": "ipython3",
   "version": "3.13.1"
  }
 },
 "nbformat": 4,
 "nbformat_minor": 5
}
